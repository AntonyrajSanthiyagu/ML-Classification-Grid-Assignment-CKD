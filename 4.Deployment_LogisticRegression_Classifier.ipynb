{
 "cells": [
  {
   "cell_type": "code",
   "execution_count": 10,
   "id": "5918c1d1-066d-4417-9238-8d28ab65e66c",
   "metadata": {},
   "outputs": [],
   "source": [
    "import pickle"
   ]
  },
  {
   "cell_type": "code",
   "execution_count": 12,
   "id": "8f9c8c5e-878c-442f-be90-94d00319c40d",
   "metadata": {},
   "outputs": [],
   "source": [
    "loaded_model=pickle.load(open(\"4.Finalized_LogisticRegression_Classifier_sc.sav\",'rb'))"
   ]
  },
  {
   "cell_type": "code",
   "execution_count": 14,
   "id": "c9971e4e-d76c-4de7-8e2e-ef5264526da5",
   "metadata": {},
   "outputs": [],
   "source": [
    "scx=pickle.load(open(\"scx.pkl\",'rb')) "
   ]
  },
  {
   "cell_type": "code",
   "execution_count": 16,
   "id": "40e7c75c-aea4-4cf3-a0c1-52e8cbf6ddff",
   "metadata": {},
   "outputs": [],
   "source": [
    "preinput=scx.transform([[54,156,420,289,520,123,98,142,243,125,243,950,450,243,102,143,186,142,201,75,68,98,123,254,243,142,98]])"
   ]
  },
  {
   "cell_type": "code",
   "execution_count": 18,
   "id": "948db6b4-bf6d-4e6e-8a79-ecd099463f95",
   "metadata": {},
   "outputs": [
    {
     "data": {
      "text/plain": [
       "array([[ 54., 156., 420., 289., 520., 123.,  98., 142., 243., 125., 243.,\n",
       "        950., 450., 243., 102., 143., 186., 142., 201.,  75.,  68.,  98.,\n",
       "        123., 254., 243., 142.,  98.]])"
      ]
     },
     "execution_count": 18,
     "metadata": {},
     "output_type": "execute_result"
    }
   ],
   "source": [
    "preinput"
   ]
  },
  {
   "cell_type": "code",
   "execution_count": 22,
   "id": "8afa80b1-27d8-4f64-96a6-212f9f42d17f",
   "metadata": {},
   "outputs": [],
   "source": [
    "result=loaded_model.predict(preinput)"
   ]
  },
  {
   "cell_type": "code",
   "execution_count": 24,
   "id": "1ab7b304-0505-4781-8001-b8ec7bc9402f",
   "metadata": {},
   "outputs": [
    {
     "data": {
      "text/plain": [
       "array([1])"
      ]
     },
     "execution_count": 24,
     "metadata": {},
     "output_type": "execute_result"
    }
   ],
   "source": [
    "result"
   ]
  },
  {
   "cell_type": "code",
   "execution_count": null,
   "id": "aa27101e-5aa9-4096-ba17-e55f4e5491aa",
   "metadata": {},
   "outputs": [],
   "source": []
  }
 ],
 "metadata": {
  "kernelspec": {
   "display_name": "Python 3 (ipykernel)",
   "language": "python",
   "name": "python3"
  },
  "language_info": {
   "codemirror_mode": {
    "name": "ipython",
    "version": 3
   },
   "file_extension": ".py",
   "mimetype": "text/x-python",
   "name": "python",
   "nbconvert_exporter": "python",
   "pygments_lexer": "ipython3",
   "version": "3.12.4"
  }
 },
 "nbformat": 4,
 "nbformat_minor": 5
}
