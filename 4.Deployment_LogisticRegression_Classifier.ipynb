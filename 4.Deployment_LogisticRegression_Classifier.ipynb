{
 "cells": [
  {
   "cell_type": "code",
   "execution_count": 1,
   "id": "5918c1d1-066d-4417-9238-8d28ab65e66c",
   "metadata": {},
   "outputs": [],
   "source": [
    "import pickle"
   ]
  },
  {
   "cell_type": "code",
   "execution_count": 2,
   "id": "8f9c8c5e-878c-442f-be90-94d00319c40d",
   "metadata": {},
   "outputs": [],
   "source": [
    "loaded_model=pickle.load(open(\"4.Finalized_LogisticRegression_Classifier_sc.sav\",'rb'))"
   ]
  },
  {
   "cell_type": "code",
   "execution_count": 3,
   "id": "c9971e4e-d76c-4de7-8e2e-ef5264526da5",
   "metadata": {},
   "outputs": [],
   "source": [
    "scx=pickle.load(open(\"scx.pkl\",'rb')) "
   ]
  },
  {
   "cell_type": "code",
   "execution_count": 4,
   "id": "40e7c75c-aea4-4cf3-a0c1-52e8cbf6ddff",
   "metadata": {},
   "outputs": [],
   "source": [
    "preinput=scx.transform([[2,76.4,3,0,148,57,3,137,4.6,12.5,38.86,8408,4.7,0,1,0,0,1,0,0,0,0,0,0,1,1,0]])"
   ]
  },
  {
   "cell_type": "code",
   "execution_count": 5,
   "id": "948db6b4-bf6d-4e6e-8a79-ecd099463f95",
   "metadata": {},
   "outputs": [
    {
     "data": {
      "text/plain": [
       "array([[ 2.00000000e+00,  7.64000000e+01,  3.00000000e+00,\n",
       "        -5.34242658e-17,  1.48000000e+02,  5.70000000e+01,\n",
       "         3.00000000e+00,  1.37000000e+02,  4.60000000e+00,\n",
       "         1.25000000e+01,  3.88600000e+01,  8.40800000e+03,\n",
       "         4.70000000e+00, -9.79444874e-17,  1.00000000e+00,\n",
       "         8.90404431e-18, -5.11982548e-17,  1.00000000e+00,\n",
       "        -5.34242658e-17, -5.34242658e-17, -8.23624098e-17,\n",
       "         0.00000000e+00, -3.56161772e-17,  0.00000000e+00,\n",
       "         1.00000000e+00,  1.00000000e+00, -3.33901662e-17]])"
      ]
     },
     "execution_count": 5,
     "metadata": {},
     "output_type": "execute_result"
    }
   ],
   "source": [
    "preinput"
   ]
  },
  {
   "cell_type": "code",
   "execution_count": 6,
   "id": "8afa80b1-27d8-4f64-96a6-212f9f42d17f",
   "metadata": {},
   "outputs": [],
   "source": [
    "result=loaded_model.predict(preinput)"
   ]
  },
  {
   "cell_type": "code",
   "execution_count": 7,
   "id": "1ab7b304-0505-4781-8001-b8ec7bc9402f",
   "metadata": {},
   "outputs": [
    {
     "data": {
      "text/plain": [
       "array([1])"
      ]
     },
     "execution_count": 7,
     "metadata": {},
     "output_type": "execute_result"
    }
   ],
   "source": [
    "result"
   ]
  },
  {
   "cell_type": "code",
   "execution_count": null,
   "id": "aa27101e-5aa9-4096-ba17-e55f4e5491aa",
   "metadata": {},
   "outputs": [],
   "source": []
  }
 ],
 "metadata": {
  "kernelspec": {
   "display_name": "Python 3 (ipykernel)",
   "language": "python",
   "name": "python3"
  },
  "language_info": {
   "codemirror_mode": {
    "name": "ipython",
    "version": 3
   },
   "file_extension": ".py",
   "mimetype": "text/x-python",
   "name": "python",
   "nbconvert_exporter": "python",
   "pygments_lexer": "ipython3",
   "version": "3.12.4"
  }
 },
 "nbformat": 4,
 "nbformat_minor": 5
}
